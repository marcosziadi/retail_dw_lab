{
 "cells": [
  {
   "cell_type": "code",
   "execution_count": 54,
   "metadata": {},
   "outputs": [],
   "source": [
    "import sys, os\n",
    "sys.path.append(os.path.abspath(\"..\"))\n",
    "from etl.utils import load_data, quality_report"
   ]
  },
  {
   "cell_type": "code",
   "execution_count": 55,
   "metadata": {},
   "outputs": [
    {
     "ename": "AttributeError",
     "evalue": "'str' object has no attribute 'nunique'",
     "output_type": "error",
     "traceback": [
      "\u001b[31m---------------------------------------------------------------------------\u001b[39m",
      "\u001b[31mAttributeError\u001b[39m                            Traceback (most recent call last)",
      "\u001b[36mCell\u001b[39m\u001b[36m \u001b[39m\u001b[32mIn[55]\u001b[39m\u001b[32m, line 3\u001b[39m\n\u001b[32m      1\u001b[39m \u001b[38;5;66;03m# Analizar products\u001b[39;00m\n\u001b[32m      2\u001b[39m products = load_data(\u001b[33m\"\u001b[39m\u001b[33mproducts\u001b[39m\u001b[33m\"\u001b[39m)\n\u001b[32m----> \u001b[39m\u001b[32m3\u001b[39m \u001b[43mquality_report\u001b[49m\u001b[43m(\u001b[49m\u001b[43mproducts\u001b[49m\u001b[43m,\u001b[49m\u001b[43m \u001b[49m\u001b[43mpk\u001b[49m\u001b[43m=\u001b[49m\u001b[33;43m\"\u001b[39;49m\u001b[33;43mproduct_id\u001b[39;49m\u001b[33;43m\"\u001b[39;49m\u001b[43m)\u001b[49m\n\u001b[32m      5\u001b[39m \u001b[38;5;66;03m# Analizar categories\u001b[39;00m\n\u001b[32m      6\u001b[39m categories = load_data(\u001b[33m\"\u001b[39m\u001b[33mcategories\u001b[39m\u001b[33m\"\u001b[39m)\n",
      "\u001b[36mFile \u001b[39m\u001b[32mc:\\Users\\Marcos\\Desktop\\Facultad\\Austral\\Segundo Año\\Introduccion a Marketing y Negocios Digitales\\retail_dw_lab\\etl\\utils.py:41\u001b[39m, in \u001b[36mquality_report\u001b[39m\u001b[34m(df, pk)\u001b[39m\n\u001b[32m     34\u001b[39m report = {\n\u001b[32m     35\u001b[39m     \u001b[33m\"\u001b[39m\u001b[33mrows\u001b[39m\u001b[33m\"\u001b[39m: df.shape[\u001b[32m0\u001b[39m],\n\u001b[32m     36\u001b[39m     \u001b[33m\"\u001b[39m\u001b[33mcolumns\u001b[39m\u001b[33m\"\u001b[39m: df.shape[\u001b[32m1\u001b[39m],\n\u001b[32m     37\u001b[39m     \u001b[33m\"\u001b[39m\u001b[33mnulls_total\u001b[39m\u001b[33m\"\u001b[39m: df.isnull().sum().sum(),\n\u001b[32m     38\u001b[39m     \u001b[33m\"\u001b[39m\u001b[33mduplicates\u001b[39m\u001b[33m\"\u001b[39m: df.duplicated().sum()\n\u001b[32m     39\u001b[39m }\n\u001b[32m     40\u001b[39m \u001b[38;5;28;01mif\u001b[39;00m pk:\n\u001b[32m---> \u001b[39m\u001b[32m41\u001b[39m     report.update(\u001b[43mcheck_primary_key\u001b[49m\u001b[43m(\u001b[49m\u001b[43mdf\u001b[49m\u001b[43m,\u001b[49m\u001b[43m \u001b[49m\u001b[43mpk\u001b[49m\u001b[43m)\u001b[49m)\n\u001b[32m     42\u001b[39m \u001b[38;5;28;01mreturn\u001b[39;00m pd.DataFrame([report])\n",
      "\u001b[36mFile \u001b[39m\u001b[32mc:\\Users\\Marcos\\Desktop\\Facultad\\Austral\\Segundo Año\\Introduccion a Marketing y Negocios Digitales\\retail_dw_lab\\etl\\utils.py:27\u001b[39m, in \u001b[36mcheck_primary_key\u001b[39m\u001b[34m(df, pk)\u001b[39m\n\u001b[32m     21\u001b[39m \u001b[38;5;28;01mdef\u001b[39;00m\u001b[38;5;250m \u001b[39m\u001b[34mcheck_primary_key\u001b[39m(df: pd.DataFrame, pk: \u001b[38;5;28mstr\u001b[39m) -> \u001b[38;5;28mdict\u001b[39m:\n\u001b[32m     22\u001b[39m \u001b[38;5;250m    \u001b[39m\u001b[33;03m\"\"\"Valida la integridad de la PK: unicidad y no nulos\"\"\"\u001b[39;00m\n\u001b[32m     23\u001b[39m     \u001b[38;5;28;01mreturn\u001b[39;00m {\n\u001b[32m     24\u001b[39m         \u001b[33m\"\u001b[39m\u001b[33mrows\u001b[39m\u001b[33m\"\u001b[39m: \u001b[38;5;28mlen\u001b[39m(df),\n\u001b[32m     25\u001b[39m         \u001b[33m\"\u001b[39m\u001b[33munique_ids\u001b[39m\u001b[33m\"\u001b[39m: df[pk].nunique(),\n\u001b[32m     26\u001b[39m         \u001b[33m\"\u001b[39m\u001b[33mnull_ids\u001b[39m\u001b[33m\"\u001b[39m: df[pk].isnull().sum(),\n\u001b[32m---> \u001b[39m\u001b[32m27\u001b[39m         \u001b[33m\"\u001b[39m\u001b[33mpk_valid\u001b[39m\u001b[33m\"\u001b[39m: (\u001b[38;5;28mlen\u001b[39m(df) == df[\u001b[43mpk\u001b[49m\u001b[43m.\u001b[49m\u001b[43mnunique\u001b[49m()] \u001b[38;5;129;01mand\u001b[39;00m (df[pk].isnull().sum() == \u001b[32m0\u001b[39m))\n\u001b[32m     28\u001b[39m     }\n",
      "\u001b[31mAttributeError\u001b[39m: 'str' object has no attribute 'nunique'"
     ]
    }
   ],
   "source": [
    "# Analizar products\n",
    "products = load_data(\"products\")\n",
    "quality_report(products, pk=\"product_id\")\n",
    "\n",
    "# Analizar categories\n",
    "categories = load_data(\"categories\")\n",
    "quality_report(categories, pk=\"category_id\")"
   ]
  },
  {
   "cell_type": "code",
   "execution_count": 49,
   "metadata": {},
   "outputs": [],
   "source": []
  },
  {
   "cell_type": "markdown",
   "metadata": {},
   "source": [
    "### Tabla: products"
   ]
  },
  {
   "cell_type": "code",
   "execution_count": 21,
   "metadata": {},
   "outputs": [],
   "source": [
    "products = load_data(\"products\")"
   ]
  },
  {
   "cell_type": "code",
   "execution_count": 22,
   "metadata": {},
   "outputs": [
    {
     "data": {
      "text/html": [
       "<div>\n",
       "<style scoped>\n",
       "    .dataframe tbody tr th:only-of-type {\n",
       "        vertical-align: middle;\n",
       "    }\n",
       "\n",
       "    .dataframe tbody tr th {\n",
       "        vertical-align: top;\n",
       "    }\n",
       "\n",
       "    .dataframe thead th {\n",
       "        text-align: right;\n",
       "    }\n",
       "</style>\n",
       "<table border=\"1\" class=\"dataframe\">\n",
       "  <thead>\n",
       "    <tr style=\"text-align: right;\">\n",
       "      <th></th>\n",
       "      <th>product_id</th>\n",
       "      <th>sku</th>\n",
       "      <th>product_name</th>\n",
       "      <th>brand</th>\n",
       "      <th>category_id</th>\n",
       "      <th>unit_price</th>\n",
       "      <th>unit_cost</th>\n",
       "      <th>active_from</th>\n",
       "      <th>active_to</th>\n",
       "      <th>created_at</th>\n",
       "    </tr>\n",
       "  </thead>\n",
       "  <tbody>\n",
       "    <tr>\n",
       "      <th>0</th>\n",
       "      <td>1</td>\n",
       "      <td>SKU-00001</td>\n",
       "      <td>Andina Remeras 001</td>\n",
       "      <td>Andina</td>\n",
       "      <td>6</td>\n",
       "      <td>112524.82</td>\n",
       "      <td>68777.76</td>\n",
       "      <td>2025-02-05</td>\n",
       "      <td>NaN</td>\n",
       "      <td>2025-02-05 03:43:54</td>\n",
       "    </tr>\n",
       "    <tr>\n",
       "      <th>1</th>\n",
       "      <td>2</td>\n",
       "      <td>SKU-00002</td>\n",
       "      <td>Lago Remeras 002</td>\n",
       "      <td>Lago</td>\n",
       "      <td>6</td>\n",
       "      <td>9608.49</td>\n",
       "      <td>5509.74</td>\n",
       "      <td>2025-03-01</td>\n",
       "      <td>NaN</td>\n",
       "      <td>2025-03-01 18:23:57</td>\n",
       "    </tr>\n",
       "    <tr>\n",
       "      <th>2</th>\n",
       "      <td>3</td>\n",
       "      <td>SKU-00003</td>\n",
       "      <td>Lago Zapatillas 003</td>\n",
       "      <td>Lago</td>\n",
       "      <td>8</td>\n",
       "      <td>36963.89</td>\n",
       "      <td>25775.53</td>\n",
       "      <td>2025-07-27</td>\n",
       "      <td>NaN</td>\n",
       "      <td>2025-07-27 00:14:11</td>\n",
       "    </tr>\n",
       "    <tr>\n",
       "      <th>3</th>\n",
       "      <td>4</td>\n",
       "      <td>SKU-00004</td>\n",
       "      <td>Lago Pantalones 004</td>\n",
       "      <td>Lago</td>\n",
       "      <td>7</td>\n",
       "      <td>54336.32</td>\n",
       "      <td>31997.02</td>\n",
       "      <td>2025-07-15</td>\n",
       "      <td>NaN</td>\n",
       "      <td>2025-07-15 12:15:18</td>\n",
       "    </tr>\n",
       "    <tr>\n",
       "      <th>4</th>\n",
       "      <td>5</td>\n",
       "      <td>SKU-00005</td>\n",
       "      <td>Pampa Gorras 005</td>\n",
       "      <td>Pampa</td>\n",
       "      <td>11</td>\n",
       "      <td>57052.01</td>\n",
       "      <td>36284.45</td>\n",
       "      <td>2025-03-09</td>\n",
       "      <td>NaN</td>\n",
       "      <td>2025-03-09 01:34:55</td>\n",
       "    </tr>\n",
       "  </tbody>\n",
       "</table>\n",
       "</div>"
      ],
      "text/plain": [
       "   product_id        sku         product_name   brand  category_id  \\\n",
       "0           1  SKU-00001   Andina Remeras 001  Andina            6   \n",
       "1           2  SKU-00002     Lago Remeras 002    Lago            6   \n",
       "2           3  SKU-00003  Lago Zapatillas 003    Lago            8   \n",
       "3           4  SKU-00004  Lago Pantalones 004    Lago            7   \n",
       "4           5  SKU-00005     Pampa Gorras 005   Pampa           11   \n",
       "\n",
       "   unit_price  unit_cost active_from active_to           created_at  \n",
       "0   112524.82   68777.76  2025-02-05       NaN  2025-02-05 03:43:54  \n",
       "1     9608.49    5509.74  2025-03-01       NaN  2025-03-01 18:23:57  \n",
       "2    36963.89   25775.53  2025-07-27       NaN  2025-07-27 00:14:11  \n",
       "3    54336.32   31997.02  2025-07-15       NaN  2025-07-15 12:15:18  \n",
       "4    57052.01   36284.45  2025-03-09       NaN  2025-03-09 01:34:55  "
      ]
     },
     "execution_count": 22,
     "metadata": {},
     "output_type": "execute_result"
    }
   ],
   "source": [
    "products.head()"
   ]
  },
  {
   "cell_type": "markdown",
   "metadata": {},
   "source": [
    "#### Integridad de la PK"
   ]
  },
  {
   "cell_type": "code",
   "execution_count": 29,
   "metadata": {},
   "outputs": [
    {
     "name": "stdout",
     "output_type": "stream",
     "text": [
      "La Primary Key cumple con todas las condiciones\n"
     ]
    }
   ],
   "source": [
    "pks_check(products,'product_id')"
   ]
  },
  {
   "cell_type": "markdown",
   "metadata": {},
   "source": [
    "#### Valores Nulos"
   ]
  },
  {
   "cell_type": "code",
   "execution_count": 31,
   "metadata": {},
   "outputs": [
    {
     "data": {
      "text/plain": [
       "product_id        0\n",
       "sku               0\n",
       "product_name      0\n",
       "brand             0\n",
       "category_id       0\n",
       "unit_price        0\n",
       "unit_cost         0\n",
       "active_from       0\n",
       "active_to       114\n",
       "created_at        0\n",
       "dtype: int64"
      ]
     },
     "execution_count": 31,
     "metadata": {},
     "output_type": "execute_result"
    }
   ],
   "source": [
    "products.isnull().sum()"
   ]
  },
  {
   "cell_type": "markdown",
   "metadata": {},
   "source": [
    "#### Duplicados"
   ]
  },
  {
   "cell_type": "code",
   "execution_count": 35,
   "metadata": {},
   "outputs": [
    {
     "data": {
      "text/plain": [
       "product_id      150\n",
       "sku             150\n",
       "product_name    150\n",
       "brand             8\n",
       "category_id       8\n",
       "unit_price      150\n",
       "unit_cost       150\n",
       "active_from     112\n",
       "active_to        32\n",
       "created_at      150\n",
       "dtype: int64"
      ]
     },
     "execution_count": 35,
     "metadata": {},
     "output_type": "execute_result"
    }
   ],
   "source": [
    "products.nunique()"
   ]
  },
  {
   "cell_type": "code",
   "execution_count": 37,
   "metadata": {},
   "outputs": [
    {
     "data": {
      "text/plain": [
       "np.int64(0)"
      ]
     },
     "execution_count": 37,
     "metadata": {},
     "output_type": "execute_result"
    }
   ],
   "source": [
    "products.duplicated().sum()"
   ]
  },
  {
   "cell_type": "markdown",
   "metadata": {},
   "source": [
    "### Tabla: categories"
   ]
  },
  {
   "cell_type": "code",
   "execution_count": 38,
   "metadata": {},
   "outputs": [],
   "source": [
    "categories = load_data(\"categories\")"
   ]
  },
  {
   "cell_type": "code",
   "execution_count": 39,
   "metadata": {},
   "outputs": [
    {
     "data": {
      "text/html": [
       "<div>\n",
       "<style scoped>\n",
       "    .dataframe tbody tr th:only-of-type {\n",
       "        vertical-align: middle;\n",
       "    }\n",
       "\n",
       "    .dataframe tbody tr th {\n",
       "        vertical-align: top;\n",
       "    }\n",
       "\n",
       "    .dataframe thead th {\n",
       "        text-align: right;\n",
       "    }\n",
       "</style>\n",
       "<table border=\"1\" class=\"dataframe\">\n",
       "  <thead>\n",
       "    <tr style=\"text-align: right;\">\n",
       "      <th></th>\n",
       "      <th>category_id</th>\n",
       "      <th>category_name</th>\n",
       "      <th>parent_category_id</th>\n",
       "    </tr>\n",
       "  </thead>\n",
       "  <tbody>\n",
       "    <tr>\n",
       "      <th>0</th>\n",
       "      <td>1</td>\n",
       "      <td>Ropa</td>\n",
       "      <td>NaN</td>\n",
       "    </tr>\n",
       "    <tr>\n",
       "      <th>1</th>\n",
       "      <td>2</td>\n",
       "      <td>Calzado</td>\n",
       "      <td>NaN</td>\n",
       "    </tr>\n",
       "    <tr>\n",
       "      <th>2</th>\n",
       "      <td>3</td>\n",
       "      <td>Accesorios</td>\n",
       "      <td>NaN</td>\n",
       "    </tr>\n",
       "    <tr>\n",
       "      <th>3</th>\n",
       "      <td>4</td>\n",
       "      <td>Electrónica</td>\n",
       "      <td>NaN</td>\n",
       "    </tr>\n",
       "    <tr>\n",
       "      <th>4</th>\n",
       "      <td>5</td>\n",
       "      <td>Camperas</td>\n",
       "      <td>1.0</td>\n",
       "    </tr>\n",
       "  </tbody>\n",
       "</table>\n",
       "</div>"
      ],
      "text/plain": [
       "   category_id category_name  parent_category_id\n",
       "0            1          Ropa                 NaN\n",
       "1            2       Calzado                 NaN\n",
       "2            3    Accesorios                 NaN\n",
       "3            4   Electrónica                 NaN\n",
       "4            5      Camperas                 1.0"
      ]
     },
     "execution_count": 39,
     "metadata": {},
     "output_type": "execute_result"
    }
   ],
   "source": [
    "categories.head()"
   ]
  },
  {
   "cell_type": "markdown",
   "metadata": {},
   "source": [
    "#### Integridad de la PK"
   ]
  },
  {
   "cell_type": "code",
   "execution_count": 40,
   "metadata": {},
   "outputs": [
    {
     "name": "stdout",
     "output_type": "stream",
     "text": [
      "La Primary Key cumple con todas las condiciones\n"
     ]
    }
   ],
   "source": [
    "pks_check(categories, 'category_id')"
   ]
  },
  {
   "cell_type": "markdown",
   "metadata": {},
   "source": [
    "#### Valores Nulos"
   ]
  },
  {
   "cell_type": "code",
   "execution_count": 42,
   "metadata": {},
   "outputs": [
    {
     "data": {
      "text/plain": [
       "category_id           0\n",
       "category_name         0\n",
       "parent_category_id    4\n",
       "dtype: int64"
      ]
     },
     "execution_count": 42,
     "metadata": {},
     "output_type": "execute_result"
    }
   ],
   "source": [
    "categories.isnull().sum()"
   ]
  },
  {
   "cell_type": "markdown",
   "metadata": {},
   "source": [
    "#### Duplicados"
   ]
  },
  {
   "cell_type": "code",
   "execution_count": 44,
   "metadata": {},
   "outputs": [
    {
     "data": {
      "text/plain": [
       "category_id           12\n",
       "category_name         12\n",
       "parent_category_id     4\n",
       "dtype: int64"
      ]
     },
     "execution_count": 44,
     "metadata": {},
     "output_type": "execute_result"
    }
   ],
   "source": [
    "categories.nunique()"
   ]
  },
  {
   "cell_type": "code",
   "execution_count": 45,
   "metadata": {},
   "outputs": [
    {
     "data": {
      "text/plain": [
       "np.int64(0)"
      ]
     },
     "execution_count": 45,
     "metadata": {},
     "output_type": "execute_result"
    }
   ],
   "source": [
    "categories.duplicated().sum()"
   ]
  }
 ],
 "metadata": {
  "kernelspec": {
   "display_name": "Python 3.13.7 ('venv': venv)",
   "language": "python",
   "name": "python3"
  },
  "language_info": {
   "codemirror_mode": {
    "name": "ipython",
    "version": 3
   },
   "file_extension": ".py",
   "mimetype": "text/x-python",
   "name": "python",
   "nbconvert_exporter": "python",
   "pygments_lexer": "ipython3",
   "version": "3.13.7"
  },
  "orig_nbformat": 4,
  "vscode": {
   "interpreter": {
    "hash": "2d86eebf24f043c555c239f0e4e6e2515d933f537649c295fc17e2565e88e2c9"
   }
  }
 },
 "nbformat": 4,
 "nbformat_minor": 2
}
