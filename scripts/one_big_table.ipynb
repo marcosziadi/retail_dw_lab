{
 "cells": [
  {
   "cell_type": "code",
   "execution_count": 2,
   "metadata": {},
   "outputs": [],
   "source": [
    "import pandas as pd"
   ]
  },
  {
   "cell_type": "code",
   "execution_count": 3,
   "metadata": {},
   "outputs": [],
   "source": [
    "products = pd.read_csv('../raw/products.csv')\n",
    "categories = pd.read_csv('../raw/categories.csv')\n",
    "inventory = pd.read_csv(\"../raw/inventory.csv\")\n",
    "warehouses = pd.read_csv(\"../raw/warehouses.csv\")\n",
    "order_items = pd.read_csv(\"../raw/order_items.csv\")"
   ]
  },
  {
   "cell_type": "code",
   "execution_count": 4,
   "metadata": {},
   "outputs": [
    {
     "name": "stdout",
     "output_type": "stream",
     "text": [
      "(150, 10)\n",
      "(12, 3)\n",
      "(300, 5)\n",
      "(2, 5)\n",
      "(964, 7)\n"
     ]
    }
   ],
   "source": [
    "print(products.shape)\n",
    "print(categories.shape)\n",
    "print(inventory.shape)\n",
    "print(warehouses.shape)\n",
    "print(order_items.shape)"
   ]
  },
  {
   "cell_type": "code",
   "execution_count": 5,
   "metadata": {},
   "outputs": [
    {
     "name": "stdout",
     "output_type": "stream",
     "text": [
      "(300, 9)\n"
     ]
    }
   ],
   "source": [
    "inventory_w = pd.merge(inventory, warehouses, on = \"warehouse_id\", how = \"left\", suffixes=['_inventory','_warehouses'])\n",
    "print(inventory_w.shape)"
   ]
  },
  {
   "cell_type": "code",
   "execution_count": 6,
   "metadata": {},
   "outputs": [
    {
     "name": "stdout",
     "output_type": "stream",
     "text": [
      "(150, 12)\n"
     ]
    }
   ],
   "source": [
    "product_c = pd.merge(products, categories, on = \"category_id\", how = \"left\", suffixes=['_products','_categories'])\n",
    "print(product_c.shape)"
   ]
  },
  {
   "cell_type": "code",
   "execution_count": 7,
   "metadata": {},
   "outputs": [
    {
     "name": "stdout",
     "output_type": "stream",
     "text": [
      "(300, 20)\n"
     ]
    }
   ],
   "source": [
    "product_2 = pd.merge(product_c, inventory_w, on = \"product_id\", how = \"left\")\n",
    "print(product_2.shape)"
   ]
  },
  {
   "cell_type": "code",
   "execution_count": 8,
   "metadata": {},
   "outputs": [
    {
     "name": "stdout",
     "output_type": "stream",
     "text": [
      "(1928, 26)\n"
     ]
    }
   ],
   "source": [
    "order_items_2 = pd.merge(order_items, product_2, on = \"product_id\", how = \"left\", suffixes=['_order_items',''])\n",
    "print(order_items_2.shape)"
   ]
  },
  {
   "cell_type": "code",
   "execution_count": 9,
   "metadata": {},
   "outputs": [],
   "source": [
    "new_order_items = order_items_2.copy()"
   ]
  },
  {
   "cell_type": "code",
   "execution_count": null,
   "metadata": {},
   "outputs": [],
   "source": []
  },
  {
   "cell_type": "code",
   "execution_count": null,
   "metadata": {},
   "outputs": [],
   "source": []
  },
  {
   "cell_type": "code",
   "execution_count": null,
   "metadata": {},
   "outputs": [],
   "source": []
  },
  {
   "cell_type": "code",
   "execution_count": 10,
   "metadata": {},
   "outputs": [],
   "source": [
    "orders = pd.read_csv(\"../raw/orders.csv\")\n",
    "payments = pd.read_csv(\"../raw/payments.csv\")\n",
    "shipments = pd.read_csv(\"../raw/shipments.csv\")"
   ]
  },
  {
   "cell_type": "code",
   "execution_count": 11,
   "metadata": {},
   "outputs": [
    {
     "name": "stdout",
     "output_type": "stream",
     "text": [
      "(400, 14)\n",
      "(399, 8)\n",
      "(209, 8)\n"
     ]
    }
   ],
   "source": [
    "print(orders.shape)\n",
    "print(payments.shape)\n",
    "print(shipments.shape)"
   ]
  },
  {
   "cell_type": "code",
   "execution_count": 12,
   "metadata": {},
   "outputs": [
    {
     "data": {
      "text/plain": [
       "np.int64(399)"
      ]
     },
     "execution_count": 12,
     "metadata": {},
     "output_type": "execute_result"
    }
   ],
   "source": [
    "payments.order_id.value_counts().sum()"
   ]
  },
  {
   "cell_type": "code",
   "execution_count": 13,
   "metadata": {},
   "outputs": [
    {
     "name": "stdout",
     "output_type": "stream",
     "text": [
      "(466, 21)\n"
     ]
    }
   ],
   "source": [
    "orders_p = pd.merge(orders, payments, on = \"order_id\", how = \"left\", suffixes=['_orders','_payments'])\n",
    "print(orders_p.shape)"
   ]
  },
  {
   "cell_type": "code",
   "execution_count": 14,
   "metadata": {},
   "outputs": [
    {
     "name": "stdout",
     "output_type": "stream",
     "text": [
      "(466, 28)\n"
     ]
    }
   ],
   "source": [
    "orders_p_s = pd.merge(orders_p, shipments, on = \"order_id\", how = \"left\", suffixes=['','_shipments'])\n",
    "print(orders_p_s.shape)"
   ]
  },
  {
   "cell_type": "code",
   "execution_count": null,
   "metadata": {},
   "outputs": [],
   "source": []
  },
  {
   "cell_type": "code",
   "execution_count": null,
   "metadata": {},
   "outputs": [],
   "source": []
  },
  {
   "cell_type": "code",
   "execution_count": null,
   "metadata": {},
   "outputs": [],
   "source": []
  },
  {
   "cell_type": "code",
   "execution_count": null,
   "metadata": {},
   "outputs": [],
   "source": []
  },
  {
   "cell_type": "code",
   "execution_count": 15,
   "metadata": {},
   "outputs": [],
   "source": [
    "customers = pd.read_csv(\"../raw/customers.csv\")\n",
    "customer_addresses = pd.read_csv(\"../raw/customer_addresses.csv\")"
   ]
  },
  {
   "cell_type": "code",
   "execution_count": 16,
   "metadata": {},
   "outputs": [
    {
     "name": "stdout",
     "output_type": "stream",
     "text": [
      "(250, 9)\n",
      "(394, 10)\n"
     ]
    }
   ],
   "source": [
    "print(customers.shape)\n",
    "print(customer_addresses.shape)"
   ]
  },
  {
   "cell_type": "code",
   "execution_count": 17,
   "metadata": {},
   "outputs": [
    {
     "name": "stdout",
     "output_type": "stream",
     "text": [
      "(466, 36)\n"
     ]
    }
   ],
   "source": [
    "orders_p_s_c = pd.merge(orders_p_s, customers, on = \"customer_id\", how = \"left\", suffixes=['','_customers'])\n",
    "print(orders_p_s_c.shape)"
   ]
  },
  {
   "cell_type": "code",
   "execution_count": 18,
   "metadata": {},
   "outputs": [
    {
     "name": "stdout",
     "output_type": "stream",
     "text": [
      "(466, 46)\n"
     ]
    }
   ],
   "source": [
    "orders_p_s_c_ba = pd.merge(orders_p_s_c, customer_addresses.add_suffix('_billing'), left_on = \"billing_address_id\", right_on=\"address_id_billing\", how = \"left\")\n",
    "print(orders_p_s_c_ba.shape)"
   ]
  },
  {
   "cell_type": "code",
   "execution_count": 19,
   "metadata": {},
   "outputs": [
    {
     "name": "stdout",
     "output_type": "stream",
     "text": [
      "(466, 56)\n"
     ]
    }
   ],
   "source": [
    "orders_p_s_c_ba_sa = pd.merge(orders_p_s_c_ba, customer_addresses.add_suffix('_shipping'), left_on = \"shipping_address_id\", right_on=\"address_id_shipping\", how = \"left\")\n",
    "print(orders_p_s_c_ba_sa.shape)"
   ]
  },
  {
   "cell_type": "code",
   "execution_count": 20,
   "metadata": {},
   "outputs": [],
   "source": [
    "new_orders = orders_p_s_c_ba_sa.copy()"
   ]
  },
  {
   "cell_type": "code",
   "execution_count": null,
   "metadata": {},
   "outputs": [],
   "source": []
  },
  {
   "cell_type": "code",
   "execution_count": null,
   "metadata": {},
   "outputs": [],
   "source": []
  },
  {
   "cell_type": "code",
   "execution_count": null,
   "metadata": {},
   "outputs": [],
   "source": []
  },
  {
   "cell_type": "code",
   "execution_count": 21,
   "metadata": {},
   "outputs": [],
   "source": [
    "channels = pd.read_csv(\"../raw/channels.csv\")\n",
    "order_marketing = pd.read_csv(\"../raw/order_marketing.csv\")\n",
    "campaigns = pd.read_csv(\"../raw/campaigns.csv\")"
   ]
  },
  {
   "cell_type": "code",
   "execution_count": 22,
   "metadata": {},
   "outputs": [
    {
     "name": "stdout",
     "output_type": "stream",
     "text": [
      "(4, 3)\n",
      "(400, 8)\n",
      "(12, 9)\n"
     ]
    }
   ],
   "source": [
    "print(channels.shape)\n",
    "print(order_marketing.shape)\n",
    "print(campaigns.shape)"
   ]
  },
  {
   "cell_type": "code",
   "execution_count": 23,
   "metadata": {},
   "outputs": [
    {
     "name": "stdout",
     "output_type": "stream",
     "text": [
      "(466, 58)\n"
     ]
    }
   ],
   "source": [
    "new_orders_c = pd.merge(new_orders, channels, on = \"channel_id\", how = \"left\", suffixes=['','_channels']) \n",
    "print(new_orders_c.shape)"
   ]
  },
  {
   "cell_type": "code",
   "execution_count": 24,
   "metadata": {},
   "outputs": [
    {
     "name": "stdout",
     "output_type": "stream",
     "text": [
      "(400, 11)\n"
     ]
    }
   ],
   "source": [
    "order_marketing_c = pd.merge(order_marketing.add_suffix('_order_marketing'), channels, left_on =\"channel_id_order_marketing\", right_on = 'channel_id', how = \"left\", suffixes=['','_channels'])\n",
    "print(order_marketing_c.shape)"
   ]
  },
  {
   "cell_type": "code",
   "execution_count": 25,
   "metadata": {},
   "outputs": [
    {
     "name": "stdout",
     "output_type": "stream",
     "text": [
      "(400, 20)\n"
     ]
    }
   ],
   "source": [
    "order_marketing_c_c = pd.merge(order_marketing_c, campaigns.add_suffix('_campaigns'), left_on =\"campaign_id_order_marketing\", right_on =\"campaign_id_campaigns\", how = \"left\")\n",
    "print(order_marketing_c_c.shape)"
   ]
  },
  {
   "cell_type": "code",
   "execution_count": 26,
   "metadata": {},
   "outputs": [
    {
     "data": {
      "text/plain": [
       "['order_id_order_marketing',\n",
       " 'channel_id_order_marketing',\n",
       " 'campaign_id_order_marketing',\n",
       " 'utm_source_order_marketing',\n",
       " 'utm_medium_order_marketing',\n",
       " 'utm_campaign_order_marketing',\n",
       " 'utm_content_order_marketing',\n",
       " 'utm_term_order_marketing',\n",
       " 'channel_id',\n",
       " 'channel_name',\n",
       " 'description',\n",
       " 'campaign_id_campaigns',\n",
       " 'channel_id_campaigns',\n",
       " 'campaign_name_campaigns',\n",
       " 'utm_source_campaigns',\n",
       " 'utm_medium_campaigns',\n",
       " 'utm_campaign_campaigns',\n",
       " 'start_date_campaigns',\n",
       " 'end_date_campaigns',\n",
       " 'budget_ars_campaigns']"
      ]
     },
     "execution_count": 26,
     "metadata": {},
     "output_type": "execute_result"
    }
   ],
   "source": [
    "order_marketing_c_c.columns.to_list()"
   ]
  },
  {
   "cell_type": "code",
   "execution_count": 27,
   "metadata": {},
   "outputs": [
    {
     "name": "stdout",
     "output_type": "stream",
     "text": [
      "(466, 78)\n"
     ]
    }
   ],
   "source": [
    "new_orders_c_2 = pd.merge(new_orders_c, order_marketing_c_c, left_on = \"order_id\", right_on = \"order_id_order_marketing\", how = \"left\", suffixes=['_orders',''])\n",
    "print(new_orders_c_2.shape)"
   ]
  },
  {
   "cell_type": "code",
   "execution_count": 28,
   "metadata": {},
   "outputs": [
    {
     "name": "stdout",
     "output_type": "stream",
     "text": [
      "(2224, 103)\n"
     ]
    }
   ],
   "source": [
    "one_big_table = pd.merge(new_order_items, new_orders_c_2, on = \"order_id\", how = \"left\")\n",
    "print(one_big_table.shape)"
   ]
  },
  {
   "cell_type": "code",
   "execution_count": 29,
   "metadata": {},
   "outputs": [
    {
     "name": "stdout",
     "output_type": "stream",
     "text": [
      "(2224, 81)\n"
     ]
    }
   ],
   "source": [
    "# one_big_table.columns.to_list()\n",
    "id_columns_to_drop = [x for x in one_big_table.columns.to_list() if '_id' in x][1:]\n",
    "one_big_table = one_big_table.drop(columns=id_columns_to_drop)\n",
    "print(one_big_table.shape)"
   ]
  },
  {
   "cell_type": "code",
   "execution_count": 30,
   "metadata": {},
   "outputs": [
    {
     "data": {
      "text/html": [
       "<div>\n",
       "<style scoped>\n",
       "    .dataframe tbody tr th:only-of-type {\n",
       "        vertical-align: middle;\n",
       "    }\n",
       "\n",
       "    .dataframe tbody tr th {\n",
       "        vertical-align: top;\n",
       "    }\n",
       "\n",
       "    .dataframe thead th {\n",
       "        text-align: right;\n",
       "    }\n",
       "</style>\n",
       "<table border=\"1\" class=\"dataframe\">\n",
       "  <thead>\n",
       "    <tr style=\"text-align: right;\">\n",
       "      <th></th>\n",
       "      <th>id</th>\n",
       "      <th>order_id</th>\n",
       "      <th>line_number</th>\n",
       "      <th>quantity</th>\n",
       "      <th>unit_price_order_items</th>\n",
       "      <th>discount_amount</th>\n",
       "      <th>tax_amount</th>\n",
       "      <th>sku</th>\n",
       "      <th>product_name</th>\n",
       "      <th>brand</th>\n",
       "      <th>...</th>\n",
       "      <th>utm_term_order_marketing</th>\n",
       "      <th>channel_name</th>\n",
       "      <th>description</th>\n",
       "      <th>campaign_name_campaigns</th>\n",
       "      <th>utm_source_campaigns</th>\n",
       "      <th>utm_medium_campaigns</th>\n",
       "      <th>utm_campaign_campaigns</th>\n",
       "      <th>start_date_campaigns</th>\n",
       "      <th>end_date_campaigns</th>\n",
       "      <th>budget_ars_campaigns</th>\n",
       "    </tr>\n",
       "  </thead>\n",
       "  <tbody>\n",
       "    <tr>\n",
       "      <th>0</th>\n",
       "      <td>1</td>\n",
       "      <td>100001</td>\n",
       "      <td>1</td>\n",
       "      <td>2</td>\n",
       "      <td>97309.59</td>\n",
       "      <td>13623.34</td>\n",
       "      <td>38009.13</td>\n",
       "      <td>SKU-00137</td>\n",
       "      <td>Norte Mochilas 137</td>\n",
       "      <td>Norte</td>\n",
       "      <td>...</td>\n",
       "      <td>mochilas</td>\n",
       "      <td>Web</td>\n",
       "      <td>Tienda online desktop/mobile</td>\n",
       "      <td>Retargeting Julio 2025 - Web</td>\n",
       "      <td>meta</td>\n",
       "      <td>social</td>\n",
       "      <td>retargeting_jul_2025</td>\n",
       "      <td>2025-08-08</td>\n",
       "      <td>2025-08-27</td>\n",
       "      <td>3157411.81</td>\n",
       "    </tr>\n",
       "    <tr>\n",
       "      <th>1</th>\n",
       "      <td>2</td>\n",
       "      <td>100001</td>\n",
       "      <td>1</td>\n",
       "      <td>2</td>\n",
       "      <td>97309.59</td>\n",
       "      <td>13623.34</td>\n",
       "      <td>38009.13</td>\n",
       "      <td>SKU-00137</td>\n",
       "      <td>Norte Mochilas 137</td>\n",
       "      <td>Norte</td>\n",
       "      <td>...</td>\n",
       "      <td>mochilas</td>\n",
       "      <td>Web</td>\n",
       "      <td>Tienda online desktop/mobile</td>\n",
       "      <td>Retargeting Julio 2025 - Web</td>\n",
       "      <td>meta</td>\n",
       "      <td>social</td>\n",
       "      <td>retargeting_jul_2025</td>\n",
       "      <td>2025-08-08</td>\n",
       "      <td>2025-08-27</td>\n",
       "      <td>3157411.81</td>\n",
       "    </tr>\n",
       "    <tr>\n",
       "      <th>2</th>\n",
       "      <td>3</td>\n",
       "      <td>100001</td>\n",
       "      <td>2</td>\n",
       "      <td>2</td>\n",
       "      <td>69290.55</td>\n",
       "      <td>2771.62</td>\n",
       "      <td>28519.99</td>\n",
       "      <td>SKU-00148</td>\n",
       "      <td>Norte Mochilas 148</td>\n",
       "      <td>Norte</td>\n",
       "      <td>...</td>\n",
       "      <td>mochilas</td>\n",
       "      <td>Web</td>\n",
       "      <td>Tienda online desktop/mobile</td>\n",
       "      <td>Retargeting Julio 2025 - Web</td>\n",
       "      <td>meta</td>\n",
       "      <td>social</td>\n",
       "      <td>retargeting_jul_2025</td>\n",
       "      <td>2025-08-08</td>\n",
       "      <td>2025-08-27</td>\n",
       "      <td>3157411.81</td>\n",
       "    </tr>\n",
       "    <tr>\n",
       "      <th>3</th>\n",
       "      <td>4</td>\n",
       "      <td>100001</td>\n",
       "      <td>2</td>\n",
       "      <td>2</td>\n",
       "      <td>69290.55</td>\n",
       "      <td>2771.62</td>\n",
       "      <td>28519.99</td>\n",
       "      <td>SKU-00148</td>\n",
       "      <td>Norte Mochilas 148</td>\n",
       "      <td>Norte</td>\n",
       "      <td>...</td>\n",
       "      <td>mochilas</td>\n",
       "      <td>Web</td>\n",
       "      <td>Tienda online desktop/mobile</td>\n",
       "      <td>Retargeting Julio 2025 - Web</td>\n",
       "      <td>meta</td>\n",
       "      <td>social</td>\n",
       "      <td>retargeting_jul_2025</td>\n",
       "      <td>2025-08-08</td>\n",
       "      <td>2025-08-27</td>\n",
       "      <td>3157411.81</td>\n",
       "    </tr>\n",
       "    <tr>\n",
       "      <th>4</th>\n",
       "      <td>5</td>\n",
       "      <td>100001</td>\n",
       "      <td>3</td>\n",
       "      <td>3</td>\n",
       "      <td>55916.19</td>\n",
       "      <td>8387.43</td>\n",
       "      <td>33465.84</td>\n",
       "      <td>SKU-00053</td>\n",
       "      <td>Estilo Remeras 053</td>\n",
       "      <td>Estilo</td>\n",
       "      <td>...</td>\n",
       "      <td>mochilas</td>\n",
       "      <td>Web</td>\n",
       "      <td>Tienda online desktop/mobile</td>\n",
       "      <td>Retargeting Julio 2025 - Web</td>\n",
       "      <td>meta</td>\n",
       "      <td>social</td>\n",
       "      <td>retargeting_jul_2025</td>\n",
       "      <td>2025-08-08</td>\n",
       "      <td>2025-08-27</td>\n",
       "      <td>3157411.81</td>\n",
       "    </tr>\n",
       "  </tbody>\n",
       "</table>\n",
       "<p>5 rows × 82 columns</p>\n",
       "</div>"
      ],
      "text/plain": [
       "   id  order_id  line_number  quantity  unit_price_order_items  \\\n",
       "0   1    100001            1         2                97309.59   \n",
       "1   2    100001            1         2                97309.59   \n",
       "2   3    100001            2         2                69290.55   \n",
       "3   4    100001            2         2                69290.55   \n",
       "4   5    100001            3         3                55916.19   \n",
       "\n",
       "   discount_amount  tax_amount        sku        product_name   brand  ...  \\\n",
       "0         13623.34    38009.13  SKU-00137  Norte Mochilas 137   Norte  ...   \n",
       "1         13623.34    38009.13  SKU-00137  Norte Mochilas 137   Norte  ...   \n",
       "2          2771.62    28519.99  SKU-00148  Norte Mochilas 148   Norte  ...   \n",
       "3          2771.62    28519.99  SKU-00148  Norte Mochilas 148   Norte  ...   \n",
       "4          8387.43    33465.84  SKU-00053  Estilo Remeras 053  Estilo  ...   \n",
       "\n",
       "   utm_term_order_marketing  channel_name                   description  \\\n",
       "0                  mochilas           Web  Tienda online desktop/mobile   \n",
       "1                  mochilas           Web  Tienda online desktop/mobile   \n",
       "2                  mochilas           Web  Tienda online desktop/mobile   \n",
       "3                  mochilas           Web  Tienda online desktop/mobile   \n",
       "4                  mochilas           Web  Tienda online desktop/mobile   \n",
       "\n",
       "        campaign_name_campaigns utm_source_campaigns utm_medium_campaigns  \\\n",
       "0  Retargeting Julio 2025 - Web                 meta               social   \n",
       "1  Retargeting Julio 2025 - Web                 meta               social   \n",
       "2  Retargeting Julio 2025 - Web                 meta               social   \n",
       "3  Retargeting Julio 2025 - Web                 meta               social   \n",
       "4  Retargeting Julio 2025 - Web                 meta               social   \n",
       "\n",
       "   utm_campaign_campaigns start_date_campaigns end_date_campaigns  \\\n",
       "0    retargeting_jul_2025           2025-08-08         2025-08-27   \n",
       "1    retargeting_jul_2025           2025-08-08         2025-08-27   \n",
       "2    retargeting_jul_2025           2025-08-08         2025-08-27   \n",
       "3    retargeting_jul_2025           2025-08-08         2025-08-27   \n",
       "4    retargeting_jul_2025           2025-08-08         2025-08-27   \n",
       "\n",
       "  budget_ars_campaigns  \n",
       "0           3157411.81  \n",
       "1           3157411.81  \n",
       "2           3157411.81  \n",
       "3           3157411.81  \n",
       "4           3157411.81  \n",
       "\n",
       "[5 rows x 82 columns]"
      ]
     },
     "execution_count": 30,
     "metadata": {},
     "output_type": "execute_result"
    }
   ],
   "source": [
    "one_big_table = one_big_table.reset_index().rename(columns={'index':'id'})\n",
    "one_big_table['id'] = one_big_table['id'] + 1\n",
    "one_big_table.head()"
   ]
  },
  {
   "cell_type": "code",
   "execution_count": 31,
   "metadata": {},
   "outputs": [],
   "source": [
    "one_big_table.to_csv('../denormalised tables/one_big_table.csv')"
   ]
  }
 ],
 "metadata": {
  "kernelspec": {
   "display_name": "Python 3.13.7 ('venv': venv)",
   "language": "python",
   "name": "python3"
  },
  "language_info": {
   "codemirror_mode": {
    "name": "ipython",
    "version": 3
   },
   "file_extension": ".py",
   "mimetype": "text/x-python",
   "name": "python",
   "nbconvert_exporter": "python",
   "pygments_lexer": "ipython3",
   "version": "3.13.7"
  },
  "orig_nbformat": 4,
  "vscode": {
   "interpreter": {
    "hash": "2d86eebf24f043c555c239f0e4e6e2515d933f537649c295fc17e2565e88e2c9"
   }
  }
 },
 "nbformat": 4,
 "nbformat_minor": 2
}
