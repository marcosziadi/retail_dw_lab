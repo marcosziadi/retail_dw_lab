{
 "cells": [
  {
   "cell_type": "code",
   "execution_count": 376,
   "metadata": {},
   "outputs": [],
   "source": [
    "import pandas as pd"
   ]
  },
  {
   "cell_type": "markdown",
   "metadata": {},
   "source": [
    "Juntemos las tablas de **products** y **campaigns**"
   ]
  },
  {
   "cell_type": "code",
   "execution_count": 377,
   "metadata": {},
   "outputs": [],
   "source": [
    "products = pd.read_csv('../raw/products.csv')\n",
    "categories = pd.read_csv('../raw/categories.csv')"
   ]
  },
  {
   "cell_type": "code",
   "execution_count": 378,
   "metadata": {},
   "outputs": [
    {
     "data": {
      "text/html": [
       "<div>\n",
       "<style scoped>\n",
       "    .dataframe tbody tr th:only-of-type {\n",
       "        vertical-align: middle;\n",
       "    }\n",
       "\n",
       "    .dataframe tbody tr th {\n",
       "        vertical-align: top;\n",
       "    }\n",
       "\n",
       "    .dataframe thead th {\n",
       "        text-align: right;\n",
       "    }\n",
       "</style>\n",
       "<table border=\"1\" class=\"dataframe\">\n",
       "  <thead>\n",
       "    <tr style=\"text-align: right;\">\n",
       "      <th></th>\n",
       "      <th>product_id</th>\n",
       "      <th>sku</th>\n",
       "      <th>product_name</th>\n",
       "      <th>brand</th>\n",
       "      <th>category_id</th>\n",
       "      <th>unit_price</th>\n",
       "      <th>unit_cost</th>\n",
       "      <th>active_from</th>\n",
       "      <th>active_to</th>\n",
       "      <th>created_at</th>\n",
       "      <th>category_name</th>\n",
       "      <th>parent_category_id</th>\n",
       "    </tr>\n",
       "  </thead>\n",
       "  <tbody>\n",
       "    <tr>\n",
       "      <th>0</th>\n",
       "      <td>1</td>\n",
       "      <td>SKU-00001</td>\n",
       "      <td>Andina Remeras 001</td>\n",
       "      <td>Andina</td>\n",
       "      <td>6</td>\n",
       "      <td>112524.82</td>\n",
       "      <td>68777.76</td>\n",
       "      <td>2025-02-05</td>\n",
       "      <td>NaN</td>\n",
       "      <td>2025-02-05 03:43:54</td>\n",
       "      <td>Remeras</td>\n",
       "      <td>1.0</td>\n",
       "    </tr>\n",
       "    <tr>\n",
       "      <th>1</th>\n",
       "      <td>2</td>\n",
       "      <td>SKU-00002</td>\n",
       "      <td>Lago Remeras 002</td>\n",
       "      <td>Lago</td>\n",
       "      <td>6</td>\n",
       "      <td>9608.49</td>\n",
       "      <td>5509.74</td>\n",
       "      <td>2025-03-01</td>\n",
       "      <td>NaN</td>\n",
       "      <td>2025-03-01 18:23:57</td>\n",
       "      <td>Remeras</td>\n",
       "      <td>1.0</td>\n",
       "    </tr>\n",
       "    <tr>\n",
       "      <th>2</th>\n",
       "      <td>3</td>\n",
       "      <td>SKU-00003</td>\n",
       "      <td>Lago Zapatillas 003</td>\n",
       "      <td>Lago</td>\n",
       "      <td>8</td>\n",
       "      <td>36963.89</td>\n",
       "      <td>25775.53</td>\n",
       "      <td>2025-07-27</td>\n",
       "      <td>NaN</td>\n",
       "      <td>2025-07-27 00:14:11</td>\n",
       "      <td>Zapatillas</td>\n",
       "      <td>2.0</td>\n",
       "    </tr>\n",
       "    <tr>\n",
       "      <th>3</th>\n",
       "      <td>4</td>\n",
       "      <td>SKU-00004</td>\n",
       "      <td>Lago Pantalones 004</td>\n",
       "      <td>Lago</td>\n",
       "      <td>7</td>\n",
       "      <td>54336.32</td>\n",
       "      <td>31997.02</td>\n",
       "      <td>2025-07-15</td>\n",
       "      <td>NaN</td>\n",
       "      <td>2025-07-15 12:15:18</td>\n",
       "      <td>Pantalones</td>\n",
       "      <td>1.0</td>\n",
       "    </tr>\n",
       "    <tr>\n",
       "      <th>4</th>\n",
       "      <td>5</td>\n",
       "      <td>SKU-00005</td>\n",
       "      <td>Pampa Gorras 005</td>\n",
       "      <td>Pampa</td>\n",
       "      <td>11</td>\n",
       "      <td>57052.01</td>\n",
       "      <td>36284.45</td>\n",
       "      <td>2025-03-09</td>\n",
       "      <td>NaN</td>\n",
       "      <td>2025-03-09 01:34:55</td>\n",
       "      <td>Gorras</td>\n",
       "      <td>3.0</td>\n",
       "    </tr>\n",
       "  </tbody>\n",
       "</table>\n",
       "</div>"
      ],
      "text/plain": [
       "   product_id        sku         product_name   brand  category_id  \\\n",
       "0           1  SKU-00001   Andina Remeras 001  Andina            6   \n",
       "1           2  SKU-00002     Lago Remeras 002    Lago            6   \n",
       "2           3  SKU-00003  Lago Zapatillas 003    Lago            8   \n",
       "3           4  SKU-00004  Lago Pantalones 004    Lago            7   \n",
       "4           5  SKU-00005     Pampa Gorras 005   Pampa           11   \n",
       "\n",
       "   unit_price  unit_cost active_from active_to           created_at  \\\n",
       "0   112524.82   68777.76  2025-02-05       NaN  2025-02-05 03:43:54   \n",
       "1     9608.49    5509.74  2025-03-01       NaN  2025-03-01 18:23:57   \n",
       "2    36963.89   25775.53  2025-07-27       NaN  2025-07-27 00:14:11   \n",
       "3    54336.32   31997.02  2025-07-15       NaN  2025-07-15 12:15:18   \n",
       "4    57052.01   36284.45  2025-03-09       NaN  2025-03-09 01:34:55   \n",
       "\n",
       "  category_name  parent_category_id  \n",
       "0       Remeras                 1.0  \n",
       "1       Remeras                 1.0  \n",
       "2    Zapatillas                 2.0  \n",
       "3    Pantalones                 1.0  \n",
       "4        Gorras                 3.0  "
      ]
     },
     "execution_count": 378,
     "metadata": {},
     "output_type": "execute_result"
    }
   ],
   "source": [
    "products_categories = pd.merge(products, categories, on = \"category_id\", how = 'left')\n",
    "products_categories.head()"
   ]
  },
  {
   "cell_type": "code",
   "execution_count": 379,
   "metadata": {},
   "outputs": [
    {
     "data": {
      "text/html": [
       "<div>\n",
       "<style scoped>\n",
       "    .dataframe tbody tr th:only-of-type {\n",
       "        vertical-align: middle;\n",
       "    }\n",
       "\n",
       "    .dataframe tbody tr th {\n",
       "        vertical-align: top;\n",
       "    }\n",
       "\n",
       "    .dataframe thead th {\n",
       "        text-align: right;\n",
       "    }\n",
       "</style>\n",
       "<table border=\"1\" class=\"dataframe\">\n",
       "  <thead>\n",
       "    <tr style=\"text-align: right;\">\n",
       "      <th></th>\n",
       "      <th>product_id</th>\n",
       "      <th>sku</th>\n",
       "      <th>product_name</th>\n",
       "      <th>brand</th>\n",
       "      <th>unit_price</th>\n",
       "      <th>unit_cost</th>\n",
       "      <th>active_from</th>\n",
       "      <th>active_to</th>\n",
       "      <th>created_at</th>\n",
       "      <th>category_name</th>\n",
       "      <th>parent_category_id</th>\n",
       "    </tr>\n",
       "  </thead>\n",
       "  <tbody>\n",
       "    <tr>\n",
       "      <th>0</th>\n",
       "      <td>1</td>\n",
       "      <td>SKU-00001</td>\n",
       "      <td>Andina Remeras 001</td>\n",
       "      <td>Andina</td>\n",
       "      <td>112524.82</td>\n",
       "      <td>68777.76</td>\n",
       "      <td>2025-02-05</td>\n",
       "      <td>NaN</td>\n",
       "      <td>2025-02-05 03:43:54</td>\n",
       "      <td>Remeras</td>\n",
       "      <td>Ropa</td>\n",
       "    </tr>\n",
       "    <tr>\n",
       "      <th>1</th>\n",
       "      <td>2</td>\n",
       "      <td>SKU-00002</td>\n",
       "      <td>Lago Remeras 002</td>\n",
       "      <td>Lago</td>\n",
       "      <td>9608.49</td>\n",
       "      <td>5509.74</td>\n",
       "      <td>2025-03-01</td>\n",
       "      <td>NaN</td>\n",
       "      <td>2025-03-01 18:23:57</td>\n",
       "      <td>Remeras</td>\n",
       "      <td>Ropa</td>\n",
       "    </tr>\n",
       "    <tr>\n",
       "      <th>2</th>\n",
       "      <td>3</td>\n",
       "      <td>SKU-00003</td>\n",
       "      <td>Lago Zapatillas 003</td>\n",
       "      <td>Lago</td>\n",
       "      <td>36963.89</td>\n",
       "      <td>25775.53</td>\n",
       "      <td>2025-07-27</td>\n",
       "      <td>NaN</td>\n",
       "      <td>2025-07-27 00:14:11</td>\n",
       "      <td>Zapatillas</td>\n",
       "      <td>Calzado</td>\n",
       "    </tr>\n",
       "    <tr>\n",
       "      <th>3</th>\n",
       "      <td>4</td>\n",
       "      <td>SKU-00004</td>\n",
       "      <td>Lago Pantalones 004</td>\n",
       "      <td>Lago</td>\n",
       "      <td>54336.32</td>\n",
       "      <td>31997.02</td>\n",
       "      <td>2025-07-15</td>\n",
       "      <td>NaN</td>\n",
       "      <td>2025-07-15 12:15:18</td>\n",
       "      <td>Pantalones</td>\n",
       "      <td>Ropa</td>\n",
       "    </tr>\n",
       "    <tr>\n",
       "      <th>4</th>\n",
       "      <td>5</td>\n",
       "      <td>SKU-00005</td>\n",
       "      <td>Pampa Gorras 005</td>\n",
       "      <td>Pampa</td>\n",
       "      <td>57052.01</td>\n",
       "      <td>36284.45</td>\n",
       "      <td>2025-03-09</td>\n",
       "      <td>NaN</td>\n",
       "      <td>2025-03-09 01:34:55</td>\n",
       "      <td>Gorras</td>\n",
       "      <td>Accesorios</td>\n",
       "    </tr>\n",
       "  </tbody>\n",
       "</table>\n",
       "</div>"
      ],
      "text/plain": [
       "   product_id        sku         product_name   brand  unit_price  unit_cost  \\\n",
       "0           1  SKU-00001   Andina Remeras 001  Andina   112524.82   68777.76   \n",
       "1           2  SKU-00002     Lago Remeras 002    Lago     9608.49    5509.74   \n",
       "2           3  SKU-00003  Lago Zapatillas 003    Lago    36963.89   25775.53   \n",
       "3           4  SKU-00004  Lago Pantalones 004    Lago    54336.32   31997.02   \n",
       "4           5  SKU-00005     Pampa Gorras 005   Pampa    57052.01   36284.45   \n",
       "\n",
       "  active_from active_to           created_at category_name parent_category_id  \n",
       "0  2025-02-05       NaN  2025-02-05 03:43:54       Remeras               Ropa  \n",
       "1  2025-03-01       NaN  2025-03-01 18:23:57       Remeras               Ropa  \n",
       "2  2025-07-27       NaN  2025-07-27 00:14:11    Zapatillas            Calzado  \n",
       "3  2025-07-15       NaN  2025-07-15 12:15:18    Pantalones               Ropa  \n",
       "4  2025-03-09       NaN  2025-03-09 01:34:55        Gorras         Accesorios  "
      ]
     },
     "execution_count": 379,
     "metadata": {},
     "output_type": "execute_result"
    }
   ],
   "source": [
    "categories_map = dict(zip(categories['category_id'], categories['category_name']))\n",
    "products_categories['parent_category_id'] = products_categories['parent_category_id'].map(categories_map)\n",
    "products_categories = products_categories.drop(columns = ['category_id'])\n",
    "products_categories.head()"
   ]
  },
  {
   "cell_type": "markdown",
   "metadata": {},
   "source": [
    "Juntemos las tablas **orders**, **payments** y **shipments**"
   ]
  },
  {
   "cell_type": "code",
   "execution_count": 380,
   "metadata": {},
   "outputs": [],
   "source": [
    "orders = pd.read_csv(\"../raw/orders.csv\")\n",
    "payments = pd.read_csv(\"../raw/payments.csv\")\n",
    "shipments = pd.read_csv(\"../raw/shipments.csv\")"
   ]
  },
  {
   "cell_type": "code",
   "execution_count": 381,
   "metadata": {},
   "outputs": [
    {
     "data": {
      "text/plain": [
       "['order_id',\n",
       " 'customer_id',\n",
       " 'order_status',\n",
       " 'order_date',\n",
       " 'channel_id',\n",
       " 'billing_address_id',\n",
       " 'shipping_address_id',\n",
       " 'currency_x',\n",
       " 'shipping_amount',\n",
       " 'order_subtotal',\n",
       " 'order_discount',\n",
       " 'order_tax',\n",
       " 'order_total',\n",
       " 'created_at',\n",
       " 'payment_id',\n",
       " 'payment_method',\n",
       " 'amount',\n",
       " 'currency_y',\n",
       " 'payment_status',\n",
       " 'paid_at',\n",
       " 'transaction_id']"
      ]
     },
     "execution_count": 381,
     "metadata": {},
     "output_type": "execute_result"
    }
   ],
   "source": [
    "orders_payments = pd.merge(orders, payments, on = \"order_id\", how = \"left\")\n",
    "orders_payments.columns.tolist()"
   ]
  },
  {
   "cell_type": "code",
   "execution_count": 382,
   "metadata": {},
   "outputs": [
    {
     "data": {
      "text/plain": [
       "True     399\n",
       "False     67\n",
       "Name: count, dtype: int64"
      ]
     },
     "execution_count": 382,
     "metadata": {},
     "output_type": "execute_result"
    }
   ],
   "source": [
    "# Podemos ver que ambas columnas no son iguales, por lo que le cambiaremos el nombre para que se sepa de \n",
    "# que tabla proviene cada uno\n",
    "(orders_payments['currency_x'] == orders_payments['currency_y']).value_counts()"
   ]
  },
  {
   "cell_type": "code",
   "execution_count": 383,
   "metadata": {},
   "outputs": [],
   "source": [
    "orders_payments = orders_payments.rename(columns={\"currency_x\": \"currency_orders\", \"currency_y\": \"currency_payments\"})\n",
    "orders_payments = orders_payments.drop(columns=['payment_id'])"
   ]
  },
  {
   "cell_type": "code",
   "execution_count": 384,
   "metadata": {},
   "outputs": [
    {
     "data": {
      "text/plain": [
       "['order_id',\n",
       " 'customer_id',\n",
       " 'order_status',\n",
       " 'order_date',\n",
       " 'channel_id',\n",
       " 'billing_address_id',\n",
       " 'shipping_address_id',\n",
       " 'currency_orders',\n",
       " 'shipping_amount',\n",
       " 'order_subtotal',\n",
       " 'order_discount',\n",
       " 'order_tax',\n",
       " 'order_total',\n",
       " 'created_at',\n",
       " 'payment_method',\n",
       " 'amount',\n",
       " 'currency_payments',\n",
       " 'payment_status',\n",
       " 'paid_at',\n",
       " 'transaction_id',\n",
       " 'shipment_id',\n",
       " 'carrier',\n",
       " 'service_level',\n",
       " 'shipped_at',\n",
       " 'delivered_at',\n",
       " 'shipping_cost',\n",
       " 'tracking_number']"
      ]
     },
     "execution_count": 384,
     "metadata": {},
     "output_type": "execute_result"
    }
   ],
   "source": [
    "orders_payments_shipments = pd.merge(orders_payments, shipments, on = \"order_id\", how = \"left\")\n",
    "orders_payments_shipments.columns.tolist()"
   ]
  },
  {
   "cell_type": "code",
   "execution_count": 385,
   "metadata": {},
   "outputs": [],
   "source": [
    "orders_payments_shipments = orders_payments_shipments.drop(columns=['shipment_id'])"
   ]
  },
  {
   "cell_type": "markdown",
   "metadata": {},
   "source": [
    "Juntemos las tablas **inventory** y **warehouses**"
   ]
  },
  {
   "cell_type": "code",
   "execution_count": 386,
   "metadata": {},
   "outputs": [],
   "source": [
    "inventory = pd.read_csv(\"../raw/inventory.csv\")\n",
    "warehouses = pd.read_csv(\"../raw/warehouses.csv\")"
   ]
  },
  {
   "cell_type": "code",
   "execution_count": 387,
   "metadata": {},
   "outputs": [
    {
     "data": {
      "text/plain": [
       "['inventory_id',\n",
       " 'product_id',\n",
       " 'warehouse_id',\n",
       " 'quantity_on_hand',\n",
       " 'last_updated_at',\n",
       " 'warehouse_name',\n",
       " 'city',\n",
       " 'province',\n",
       " 'country_code']"
      ]
     },
     "execution_count": 387,
     "metadata": {},
     "output_type": "execute_result"
    }
   ],
   "source": [
    "inventory_warehouse = pd.merge(inventory, warehouses, on = \"warehouse_id\", how = \"left\")\n",
    "inventory_warehouse.columns.to_list()"
   ]
  },
  {
   "cell_type": "code",
   "execution_count": 388,
   "metadata": {},
   "outputs": [],
   "source": [
    "inventory_warehouse = inventory_warehouse.drop(columns=[\"warehouse_id\"])"
   ]
  },
  {
   "cell_type": "markdown",
   "metadata": {},
   "source": [
    "Juntemos las tablas **products_categories** y **inventory_warehouse**"
   ]
  },
  {
   "cell_type": "code",
   "execution_count": 389,
   "metadata": {},
   "outputs": [
    {
     "data": {
      "text/plain": [
       "['product_id',\n",
       " 'sku',\n",
       " 'product_name',\n",
       " 'brand',\n",
       " 'unit_price',\n",
       " 'unit_cost',\n",
       " 'active_from',\n",
       " 'active_to',\n",
       " 'created_at',\n",
       " 'category_name',\n",
       " 'parent_category_id',\n",
       " 'inventory_id',\n",
       " 'quantity_on_hand',\n",
       " 'last_updated_at',\n",
       " 'warehouse_name',\n",
       " 'city',\n",
       " 'province',\n",
       " 'country_code']"
      ]
     },
     "execution_count": 389,
     "metadata": {},
     "output_type": "execute_result"
    }
   ],
   "source": [
    "prod_cate__inve_ware = pd.merge(products_categories, inventory_warehouse, on = \"product_id\")\n",
    "prod_cate__inve_ware.columns.to_list()"
   ]
  },
  {
   "cell_type": "code",
   "execution_count": 390,
   "metadata": {},
   "outputs": [],
   "source": [
    "prod_cate__inve_ware = prod_cate__inve_ware.drop(columns=['inventory_id'])\n",
    "prod_cate__inve_ware = prod_cate__inve_ware.rename(columns={\"parent_category_id\": \"parent_category_name\"})"
   ]
  },
  {
   "cell_type": "markdown",
   "metadata": {},
   "source": [
    "Juntemos las tablas **order_items** y **prod_cate__inve_ware**"
   ]
  },
  {
   "cell_type": "code",
   "execution_count": 391,
   "metadata": {},
   "outputs": [],
   "source": [
    "order_items = pd.read_csv(\"../raw/order_items.csv\")"
   ]
  },
  {
   "cell_type": "code",
   "execution_count": 392,
   "metadata": {},
   "outputs": [
    {
     "data": {
      "text/plain": [
       "['order_id',\n",
       " 'line_number',\n",
       " 'product_id',\n",
       " 'quantity',\n",
       " 'unit_price_x',\n",
       " 'discount_amount',\n",
       " 'tax_amount',\n",
       " 'sku',\n",
       " 'product_name',\n",
       " 'brand',\n",
       " 'unit_price_y',\n",
       " 'unit_cost',\n",
       " 'active_from',\n",
       " 'active_to',\n",
       " 'created_at',\n",
       " 'category_name',\n",
       " 'parent_category_name',\n",
       " 'quantity_on_hand',\n",
       " 'last_updated_at',\n",
       " 'warehouse_name',\n",
       " 'city',\n",
       " 'province',\n",
       " 'country_code']"
      ]
     },
     "execution_count": 392,
     "metadata": {},
     "output_type": "execute_result"
    }
   ],
   "source": [
    "orde_item____prod_cate__inve_ware = pd.merge(order_items, prod_cate__inve_ware, on = \"product_id\", how = \"left\")\n",
    "orde_item____prod_cate__inve_ware.columns.to_list()"
   ]
  },
  {
   "cell_type": "code",
   "execution_count": 393,
   "metadata": {},
   "outputs": [
    {
     "data": {
      "text/plain": [
       "True    1928\n",
       "Name: count, dtype: int64"
      ]
     },
     "execution_count": 393,
     "metadata": {},
     "output_type": "execute_result"
    }
   ],
   "source": [
    "# Podemos ver que ambas columnas son iguales, por lo que podriamos borrar.\n",
    "# Pero no se si conviene borrar, por las dudas, no lo voy a hacer\n",
    "(orde_item____prod_cate__inve_ware['unit_price_x'] == orde_item____prod_cate__inve_ware['unit_price_y']).value_counts()"
   ]
  },
  {
   "cell_type": "code",
   "execution_count": 394,
   "metadata": {},
   "outputs": [],
   "source": [
    "orde_item____prod_cate__inve_ware = orde_item____prod_cate__inve_ware.rename(columns={\n",
    "    \"unit_price_x\": \"unit_price_order_items\",\n",
    "    \"unit_price_y\": \"unit_price_products\"\n",
    "})"
   ]
  },
  {
   "cell_type": "code",
   "execution_count": 395,
   "metadata": {},
   "outputs": [],
   "source": [
    "# Para simplificar las cosas, vamos a cambiar el nombre de la tabla desnormalizada\n",
    "df_desnorm = orde_item____prod_cate__inve_ware.copy()"
   ]
  },
  {
   "cell_type": "markdown",
   "metadata": {},
   "source": [
    "Juntemos las tablas **orders_payments_shipments** y **customer_addresses**"
   ]
  },
  {
   "cell_type": "code",
   "execution_count": 396,
   "metadata": {},
   "outputs": [],
   "source": [
    "customer_addresses = pd.read_csv(\"../raw/customer_addresses.csv\")"
   ]
  },
  {
   "cell_type": "code",
   "execution_count": 397,
   "metadata": {},
   "outputs": [],
   "source": [
    "customer_addresses_billing = customer_addresses.copy()\n",
    "customer_addresses_shipping = customer_addresses.copy()"
   ]
  },
  {
   "cell_type": "code",
   "execution_count": 398,
   "metadata": {},
   "outputs": [
    {
     "data": {
      "text/plain": [
       "{'address_id': 'address_id',\n",
       " 'customer_id': 'customer_id',\n",
       " 'address_type': 'address_type',\n",
       " 'street': 'street',\n",
       " 'city': 'city',\n",
       " 'province': 'province',\n",
       " 'country_code': 'country_code',\n",
       " 'postal_code': 'postal_code',\n",
       " 'created_at': 'created_at',\n",
       " 'is_primary': 'is_primary'}"
      ]
     },
     "execution_count": 398,
     "metadata": {},
     "output_type": "execute_result"
    }
   ],
   "source": [
    "dict(zip(customer_addresses_billing.columns.to_list(), customer_addresses_billing.columns.to_list()))"
   ]
  },
  {
   "cell_type": "code",
   "execution_count": 399,
   "metadata": {},
   "outputs": [],
   "source": [
    "customer_addresses_billing = customer_addresses_billing.rename(columns={\n",
    "    'address_id': 'billing_address_id',\n",
    "    'customer_id': 'customer_id_billing',\n",
    "    'address_type': 'address_type_billing',\n",
    "    'street': 'street_billing',\n",
    "    'city': 'city_billing',\n",
    "    'province': 'province_billing',\n",
    "    'country_code': 'country_code_billing',\n",
    "    'postal_code': 'postal_code_billing',\n",
    "    'created_at': 'created_at_billing',\n",
    "    'is_primary': 'is_primary_billing'\n",
    "})\n",
    "customer_addresses_shipping = customer_addresses_shipping.rename(columns={\n",
    "    'address_id': 'shipping_address_id',\n",
    "    'customer_id': 'customer_id_shipping',\n",
    "    'address_type': 'address_type_shipping',\n",
    "    'street': 'street_shipping',\n",
    "    'city': 'city_shipping',\n",
    "    'province': 'province_shipping',\n",
    "    'country_code': 'country_code_shipping',\n",
    "    'postal_code': 'postal_code_shipping',\n",
    "    'created_at': 'created_at_shipping',\n",
    "    'is_primary': 'is_primary_shipping'\n",
    "})"
   ]
  },
  {
   "cell_type": "code",
   "execution_count": 400,
   "metadata": {},
   "outputs": [],
   "source": [
    "orde_cust_addr_1 = pd.merge(orders_payments_shipments, customer_addresses_billing, on = \"billing_address_id\", how = \"left\")\n",
    "orde_cust_addr_2 = pd.merge(orde_cust_addr_1, customer_addresses_shipping, on = \"shipping_address_id\", how = \"left\")"
   ]
  },
  {
   "cell_type": "code",
   "execution_count": 401,
   "metadata": {},
   "outputs": [
    {
     "data": {
      "text/plain": [
       "['order_id',\n",
       " 'customer_id',\n",
       " 'order_status',\n",
       " 'order_date',\n",
       " 'channel_id',\n",
       " 'billing_address_id',\n",
       " 'shipping_address_id',\n",
       " 'currency_orders',\n",
       " 'shipping_amount',\n",
       " 'order_subtotal',\n",
       " 'order_discount',\n",
       " 'order_tax',\n",
       " 'order_total',\n",
       " 'created_at',\n",
       " 'payment_method',\n",
       " 'amount',\n",
       " 'currency_payments',\n",
       " 'payment_status',\n",
       " 'paid_at',\n",
       " 'transaction_id',\n",
       " 'carrier',\n",
       " 'service_level',\n",
       " 'shipped_at',\n",
       " 'delivered_at',\n",
       " 'shipping_cost',\n",
       " 'tracking_number',\n",
       " 'customer_id_billing',\n",
       " 'address_type_billing',\n",
       " 'street_billing',\n",
       " 'city_billing',\n",
       " 'province_billing',\n",
       " 'country_code_billing',\n",
       " 'postal_code_billing',\n",
       " 'created_at_billing',\n",
       " 'is_primary_billing',\n",
       " 'customer_id_shipping',\n",
       " 'address_type_shipping',\n",
       " 'street_shipping',\n",
       " 'city_shipping',\n",
       " 'province_shipping',\n",
       " 'country_code_shipping',\n",
       " 'postal_code_shipping',\n",
       " 'created_at_shipping',\n",
       " 'is_primary_shipping']"
      ]
     },
     "execution_count": 401,
     "metadata": {},
     "output_type": "execute_result"
    }
   ],
   "source": [
    "orde_cust_addr_2.columns.to_list()"
   ]
  },
  {
   "cell_type": "code",
   "execution_count": 402,
   "metadata": {},
   "outputs": [
    {
     "data": {
      "text/plain": [
       "True    466\n",
       "Name: count, dtype: int64"
      ]
     },
     "execution_count": 402,
     "metadata": {},
     "output_type": "execute_result"
    }
   ],
   "source": [
    "# En teoria, las columnas relacionadas con customer_id deberian ser las mismas, vamos a chequear\n",
    "(orde_cust_addr_2['customer_id'] == orde_cust_addr_2['customer_id_shipping']).value_counts()"
   ]
  },
  {
   "cell_type": "code",
   "execution_count": 403,
   "metadata": {},
   "outputs": [
    {
     "data": {
      "text/plain": [
       "True     279\n",
       "False    187\n",
       "Name: count, dtype: int64"
      ]
     },
     "execution_count": 403,
     "metadata": {},
     "output_type": "execute_result"
    }
   ],
   "source": [
    "(orde_cust_addr_2['customer_id_billing'] == orde_cust_addr_2['customer_id_shipping']).value_counts()\n",
    "# Al parecer no lo son, asi que las guardaremos tal cual estan"
   ]
  },
  {
   "cell_type": "markdown",
   "metadata": {},
   "source": [
    "Juntemos las tablas **orde_cust_addr_2** y **customers**"
   ]
  },
  {
   "cell_type": "code",
   "execution_count": 414,
   "metadata": {},
   "outputs": [],
   "source": [
    "customers = pd.read_csv(\"../raw/customers.csv\")"
   ]
  },
  {
   "cell_type": "code",
   "execution_count": 418,
   "metadata": {},
   "outputs": [],
   "source": [
    "customers = customers.rename(columns={\n",
    "    'customer_id': 'customer_id',\n",
    "    'first_name': 'first_name',\n",
    "    'last_name': 'last_name',\n",
    "    'email': 'email',\n",
    "    'phone': 'phone',\n",
    "    'gender': 'gender',\n",
    "    'birth_date': 'birth_date',\n",
    "    'created_at': 'created_at_customer',\n",
    "    'marketing_opt_in': 'marketing_opt_in'\n",
    "})"
   ]
  },
  {
   "cell_type": "code",
   "execution_count": 419,
   "metadata": {},
   "outputs": [],
   "source": [
    "ord_2_cust = pd.merge(orde_cust_addr_2, customers, on = \"customer_id\", how = \"left\")"
   ]
  },
  {
   "cell_type": "code",
   "execution_count": 420,
   "metadata": {},
   "outputs": [],
   "source": [
    "customers_copy = customers.copy()\n",
    "customers_copy = customers_copy.rename(columns={\n",
    "    'customer_id': 'customer_id_billing',\n",
    "    'first_name': 'first_name_customer_billing',\n",
    "    'last_name': 'last_name_customer_billing',\n",
    "    'email': 'email_customer_billing',\n",
    "    'phone': 'phone_customer_billing',\n",
    "    'gender': 'gender_customer_billing',\n",
    "    'birth_date': 'birth_date_customer_billing',\n",
    "    'created_at_customer': 'created_at_customer_billing',\n",
    "    'marketing_opt_in': 'marketing_opt_in_customer_billing'\n",
    "})\n",
    "ord_2_cust = pd.merge(ord_2_cust, customers_copy, on = \"customer_id_billing\", how = \"left\")\n",
    "customers_copy = customers.copy()\n",
    "customers_copy = customers_copy.rename(columns={\n",
    "    'customer_id': 'customer_id_shipping',\n",
    "    'first_name': 'first_name_customer_shipping',\n",
    "    'last_name': 'last_name_customer_shipping',\n",
    "    'email': 'email_customer_shipping',\n",
    "    'phone': 'phone_customer_shipping',\n",
    "    'gender': 'gender_customer_shipping',\n",
    "    'birth_date': 'birth_date_customer_shipping',\n",
    "    'created_at_customer': 'created_at_customer_shipping',\n",
    "    'marketing_opt_in': 'marketing_opt_in_customer_shipping'\n",
    "})\n",
    "ord_2_cust = pd.merge(ord_2_cust, customers_copy, on = \"customer_id_shipping\", how = \"left\")"
   ]
  },
  {
   "cell_type": "code",
   "execution_count": 421,
   "metadata": {},
   "outputs": [
    {
     "data": {
      "text/plain": [
       "['order_id',\n",
       " 'customer_id',\n",
       " 'order_status',\n",
       " 'order_date',\n",
       " 'channel_id',\n",
       " 'billing_address_id',\n",
       " 'shipping_address_id',\n",
       " 'currency_orders',\n",
       " 'shipping_amount',\n",
       " 'order_subtotal',\n",
       " 'order_discount',\n",
       " 'order_tax',\n",
       " 'order_total',\n",
       " 'created_at',\n",
       " 'payment_method',\n",
       " 'amount',\n",
       " 'currency_payments',\n",
       " 'payment_status',\n",
       " 'paid_at',\n",
       " 'transaction_id',\n",
       " 'carrier',\n",
       " 'service_level',\n",
       " 'shipped_at',\n",
       " 'delivered_at',\n",
       " 'shipping_cost',\n",
       " 'tracking_number',\n",
       " 'customer_id_billing',\n",
       " 'address_type_billing',\n",
       " 'street_billing',\n",
       " 'city_billing',\n",
       " 'province_billing',\n",
       " 'country_code_billing',\n",
       " 'postal_code_billing',\n",
       " 'created_at_billing',\n",
       " 'is_primary_billing',\n",
       " 'customer_id_shipping',\n",
       " 'address_type_shipping',\n",
       " 'street_shipping',\n",
       " 'city_shipping',\n",
       " 'province_shipping',\n",
       " 'country_code_shipping',\n",
       " 'postal_code_shipping',\n",
       " 'created_at_shipping',\n",
       " 'is_primary_shipping',\n",
       " 'first_name',\n",
       " 'last_name',\n",
       " 'email',\n",
       " 'phone',\n",
       " 'gender',\n",
       " 'birth_date',\n",
       " 'created_at_customer',\n",
       " 'marketing_opt_in',\n",
       " 'first_name_customer_billing',\n",
       " 'last_name_customer_billing',\n",
       " 'email_customer_billing',\n",
       " 'phone_customer_billing',\n",
       " 'gender_customer_billing',\n",
       " 'birth_date_customer_billing',\n",
       " 'created_at_customer_billing',\n",
       " 'marketing_opt_in_customer_billing',\n",
       " 'first_name_customer_shipping',\n",
       " 'last_name_customer_shipping',\n",
       " 'email_customer_shipping',\n",
       " 'phone_customer_shipping',\n",
       " 'gender_customer_shipping',\n",
       " 'birth_date_customer_shipping',\n",
       " 'created_at_customer_shipping',\n",
       " 'marketing_opt_in_customer_shipping']"
      ]
     },
     "execution_count": 421,
     "metadata": {},
     "output_type": "execute_result"
    }
   ],
   "source": [
    "ord_2_cust.columns.to_list()"
   ]
  },
  {
   "cell_type": "markdown",
   "metadata": {},
   "source": [
    "Juntemos las tablas **order_marketing** y **campaigns**"
   ]
  },
  {
   "cell_type": "code",
   "execution_count": 422,
   "metadata": {},
   "outputs": [],
   "source": [
    "campaigns = pd.read_csv(\"../raw/campaigns.csv\")\n",
    "order_marketing = pd.read_csv(\"../raw/order_marketing.csv\")"
   ]
  },
  {
   "cell_type": "code",
   "execution_count": 425,
   "metadata": {},
   "outputs": [],
   "source": [
    "orde_mark_camp = pd.merge(order_marketing, campaigns, on = \"campaign_id\", how = \"left\", suffixes=('_order_marketing', '_campaigns'))"
   ]
  },
  {
   "cell_type": "code",
   "execution_count": 426,
   "metadata": {},
   "outputs": [
    {
     "data": {
      "text/html": [
       "<div>\n",
       "<style scoped>\n",
       "    .dataframe tbody tr th:only-of-type {\n",
       "        vertical-align: middle;\n",
       "    }\n",
       "\n",
       "    .dataframe tbody tr th {\n",
       "        vertical-align: top;\n",
       "    }\n",
       "\n",
       "    .dataframe thead th {\n",
       "        text-align: right;\n",
       "    }\n",
       "</style>\n",
       "<table border=\"1\" class=\"dataframe\">\n",
       "  <thead>\n",
       "    <tr style=\"text-align: right;\">\n",
       "      <th></th>\n",
       "      <th>order_id</th>\n",
       "      <th>channel_id_order_marketing</th>\n",
       "      <th>campaign_id</th>\n",
       "      <th>utm_source_order_marketing</th>\n",
       "      <th>utm_medium_order_marketing</th>\n",
       "      <th>utm_campaign_order_marketing</th>\n",
       "      <th>utm_content</th>\n",
       "      <th>utm_term</th>\n",
       "      <th>channel_id_campaigns</th>\n",
       "      <th>campaign_name</th>\n",
       "      <th>utm_source_campaigns</th>\n",
       "      <th>utm_medium_campaigns</th>\n",
       "      <th>utm_campaign_campaigns</th>\n",
       "      <th>start_date</th>\n",
       "      <th>end_date</th>\n",
       "      <th>budget_ars</th>\n",
       "    </tr>\n",
       "  </thead>\n",
       "  <tbody>\n",
       "    <tr>\n",
       "      <th>0</th>\n",
       "      <td>100001</td>\n",
       "      <td>1</td>\n",
       "      <td>2.0</td>\n",
       "      <td>meta</td>\n",
       "      <td>social</td>\n",
       "      <td>retargeting_jul_2025</td>\n",
       "      <td>NaN</td>\n",
       "      <td>mochilas</td>\n",
       "      <td>1.0</td>\n",
       "      <td>Retargeting Julio 2025 - Web</td>\n",
       "      <td>meta</td>\n",
       "      <td>social</td>\n",
       "      <td>retargeting_jul_2025</td>\n",
       "      <td>2025-08-08</td>\n",
       "      <td>2025-08-27</td>\n",
       "      <td>3157411.81</td>\n",
       "    </tr>\n",
       "    <tr>\n",
       "      <th>1</th>\n",
       "      <td>100002</td>\n",
       "      <td>3</td>\n",
       "      <td>8.0</td>\n",
       "      <td>meta</td>\n",
       "      <td>social</td>\n",
       "      <td>retargeting_jul_2025</td>\n",
       "      <td>remarketing</td>\n",
       "      <td>remeras</td>\n",
       "      <td>3.0</td>\n",
       "      <td>Retargeting Julio 2025 - Marketplace</td>\n",
       "      <td>meta</td>\n",
       "      <td>social</td>\n",
       "      <td>retargeting_jul_2025</td>\n",
       "      <td>2025-08-16</td>\n",
       "      <td>2025-09-02</td>\n",
       "      <td>2997894.66</td>\n",
       "    </tr>\n",
       "    <tr>\n",
       "      <th>2</th>\n",
       "      <td>100003</td>\n",
       "      <td>3</td>\n",
       "      <td>9.0</td>\n",
       "      <td>meta</td>\n",
       "      <td>social</td>\n",
       "      <td>nuevo_drop_ago_2025</td>\n",
       "      <td>remarketing</td>\n",
       "      <td>camperas</td>\n",
       "      <td>3.0</td>\n",
       "      <td>Nuevo Drop Agosto 2025 - Marketplace</td>\n",
       "      <td>meta</td>\n",
       "      <td>social</td>\n",
       "      <td>nuevo_drop_ago_2025</td>\n",
       "      <td>2025-07-27</td>\n",
       "      <td>2025-08-12</td>\n",
       "      <td>4801475.51</td>\n",
       "    </tr>\n",
       "    <tr>\n",
       "      <th>3</th>\n",
       "      <td>100004</td>\n",
       "      <td>1</td>\n",
       "      <td>NaN</td>\n",
       "      <td>email</td>\n",
       "      <td>email</td>\n",
       "      <td>newsletter</td>\n",
       "      <td>NaN</td>\n",
       "      <td>camperas</td>\n",
       "      <td>NaN</td>\n",
       "      <td>NaN</td>\n",
       "      <td>NaN</td>\n",
       "      <td>NaN</td>\n",
       "      <td>NaN</td>\n",
       "      <td>NaN</td>\n",
       "      <td>NaN</td>\n",
       "      <td>NaN</td>\n",
       "    </tr>\n",
       "    <tr>\n",
       "      <th>4</th>\n",
       "      <td>100005</td>\n",
       "      <td>3</td>\n",
       "      <td>9.0</td>\n",
       "      <td>meta</td>\n",
       "      <td>social</td>\n",
       "      <td>nuevo_drop_ago_2025</td>\n",
       "      <td>promo</td>\n",
       "      <td>mochilas</td>\n",
       "      <td>3.0</td>\n",
       "      <td>Nuevo Drop Agosto 2025 - Marketplace</td>\n",
       "      <td>meta</td>\n",
       "      <td>social</td>\n",
       "      <td>nuevo_drop_ago_2025</td>\n",
       "      <td>2025-07-27</td>\n",
       "      <td>2025-08-12</td>\n",
       "      <td>4801475.51</td>\n",
       "    </tr>\n",
       "  </tbody>\n",
       "</table>\n",
       "</div>"
      ],
      "text/plain": [
       "   order_id  channel_id_order_marketing  campaign_id  \\\n",
       "0    100001                           1          2.0   \n",
       "1    100002                           3          8.0   \n",
       "2    100003                           3          9.0   \n",
       "3    100004                           1          NaN   \n",
       "4    100005                           3          9.0   \n",
       "\n",
       "  utm_source_order_marketing utm_medium_order_marketing  \\\n",
       "0                       meta                     social   \n",
       "1                       meta                     social   \n",
       "2                       meta                     social   \n",
       "3                      email                      email   \n",
       "4                       meta                     social   \n",
       "\n",
       "  utm_campaign_order_marketing  utm_content  utm_term  channel_id_campaigns  \\\n",
       "0         retargeting_jul_2025          NaN  mochilas                   1.0   \n",
       "1         retargeting_jul_2025  remarketing   remeras                   3.0   \n",
       "2          nuevo_drop_ago_2025  remarketing  camperas                   3.0   \n",
       "3                   newsletter          NaN  camperas                   NaN   \n",
       "4          nuevo_drop_ago_2025        promo  mochilas                   3.0   \n",
       "\n",
       "                          campaign_name utm_source_campaigns  \\\n",
       "0          Retargeting Julio 2025 - Web                 meta   \n",
       "1  Retargeting Julio 2025 - Marketplace                 meta   \n",
       "2  Nuevo Drop Agosto 2025 - Marketplace                 meta   \n",
       "3                                   NaN                  NaN   \n",
       "4  Nuevo Drop Agosto 2025 - Marketplace                 meta   \n",
       "\n",
       "  utm_medium_campaigns utm_campaign_campaigns  start_date    end_date  \\\n",
       "0               social   retargeting_jul_2025  2025-08-08  2025-08-27   \n",
       "1               social   retargeting_jul_2025  2025-08-16  2025-09-02   \n",
       "2               social    nuevo_drop_ago_2025  2025-07-27  2025-08-12   \n",
       "3                  NaN                    NaN         NaN         NaN   \n",
       "4               social    nuevo_drop_ago_2025  2025-07-27  2025-08-12   \n",
       "\n",
       "   budget_ars  \n",
       "0  3157411.81  \n",
       "1  2997894.66  \n",
       "2  4801475.51  \n",
       "3         NaN  \n",
       "4  4801475.51  "
      ]
     },
     "execution_count": 426,
     "metadata": {},
     "output_type": "execute_result"
    }
   ],
   "source": [
    "orde_mark_camp.head()"
   ]
  },
  {
   "cell_type": "code",
   "execution_count": 427,
   "metadata": {},
   "outputs": [
    {
     "data": {
      "text/plain": [
       "['order_id',\n",
       " 'channel_id_order_marketing',\n",
       " 'campaign_id',\n",
       " 'utm_source_order_marketing',\n",
       " 'utm_medium_order_marketing',\n",
       " 'utm_campaign_order_marketing',\n",
       " 'utm_content',\n",
       " 'utm_term',\n",
       " 'channel_id_campaigns',\n",
       " 'campaign_name',\n",
       " 'utm_source_campaigns',\n",
       " 'utm_medium_campaigns',\n",
       " 'utm_campaign_campaigns',\n",
       " 'start_date',\n",
       " 'end_date',\n",
       " 'budget_ars']"
      ]
     },
     "execution_count": 427,
     "metadata": {},
     "output_type": "execute_result"
    }
   ],
   "source": [
    "orde_mark_camp.columns.to_list()"
   ]
  },
  {
   "cell_type": "code",
   "execution_count": 428,
   "metadata": {},
   "outputs": [
    {
     "data": {
      "text/plain": [
       "True     282\n",
       "False    118\n",
       "Name: count, dtype: int64"
      ]
     },
     "execution_count": 428,
     "metadata": {},
     "output_type": "execute_result"
    }
   ],
   "source": [
    "# Podemos ver que no son dos columnas iguales, asi que las dejamos tal cual\n",
    "(orde_mark_camp['channel_id_order_marketing'] == orde_mark_camp['channel_id_campaigns']).value_counts()"
   ]
  },
  {
   "cell_type": "markdown",
   "metadata": {},
   "source": [
    "Juntamos las tablas **ord_2_cust** y **orde_mark_camp**"
   ]
  },
  {
   "cell_type": "code",
   "execution_count": 430,
   "metadata": {},
   "outputs": [],
   "source": [
    "df_desnorm_2 = pd.merge(ord_2_cust, orde_mark_camp, on = \"order_id\", how = \"left\")"
   ]
  },
  {
   "cell_type": "code",
   "execution_count": 431,
   "metadata": {},
   "outputs": [
    {
     "data": {
      "text/plain": [
       "['order_id',\n",
       " 'customer_id',\n",
       " 'order_status',\n",
       " 'order_date',\n",
       " 'channel_id',\n",
       " 'billing_address_id',\n",
       " 'shipping_address_id',\n",
       " 'currency_orders',\n",
       " 'shipping_amount',\n",
       " 'order_subtotal',\n",
       " 'order_discount',\n",
       " 'order_tax',\n",
       " 'order_total',\n",
       " 'created_at',\n",
       " 'payment_method',\n",
       " 'amount',\n",
       " 'currency_payments',\n",
       " 'payment_status',\n",
       " 'paid_at',\n",
       " 'transaction_id',\n",
       " 'carrier',\n",
       " 'service_level',\n",
       " 'shipped_at',\n",
       " 'delivered_at',\n",
       " 'shipping_cost',\n",
       " 'tracking_number',\n",
       " 'customer_id_billing',\n",
       " 'address_type_billing',\n",
       " 'street_billing',\n",
       " 'city_billing',\n",
       " 'province_billing',\n",
       " 'country_code_billing',\n",
       " 'postal_code_billing',\n",
       " 'created_at_billing',\n",
       " 'is_primary_billing',\n",
       " 'customer_id_shipping',\n",
       " 'address_type_shipping',\n",
       " 'street_shipping',\n",
       " 'city_shipping',\n",
       " 'province_shipping',\n",
       " 'country_code_shipping',\n",
       " 'postal_code_shipping',\n",
       " 'created_at_shipping',\n",
       " 'is_primary_shipping',\n",
       " 'first_name',\n",
       " 'last_name',\n",
       " 'email',\n",
       " 'phone',\n",
       " 'gender',\n",
       " 'birth_date',\n",
       " 'created_at_customer',\n",
       " 'marketing_opt_in',\n",
       " 'first_name_customer_billing',\n",
       " 'last_name_customer_billing',\n",
       " 'email_customer_billing',\n",
       " 'phone_customer_billing',\n",
       " 'gender_customer_billing',\n",
       " 'birth_date_customer_billing',\n",
       " 'created_at_customer_billing',\n",
       " 'marketing_opt_in_customer_billing',\n",
       " 'first_name_customer_shipping',\n",
       " 'last_name_customer_shipping',\n",
       " 'email_customer_shipping',\n",
       " 'phone_customer_shipping',\n",
       " 'gender_customer_shipping',\n",
       " 'birth_date_customer_shipping',\n",
       " 'created_at_customer_shipping',\n",
       " 'marketing_opt_in_customer_shipping',\n",
       " 'channel_id_order_marketing',\n",
       " 'campaign_id',\n",
       " 'utm_source_order_marketing',\n",
       " 'utm_medium_order_marketing',\n",
       " 'utm_campaign_order_marketing',\n",
       " 'utm_content',\n",
       " 'utm_term',\n",
       " 'channel_id_campaigns',\n",
       " 'campaign_name',\n",
       " 'utm_source_campaigns',\n",
       " 'utm_medium_campaigns',\n",
       " 'utm_campaign_campaigns',\n",
       " 'start_date',\n",
       " 'end_date',\n",
       " 'budget_ars']"
      ]
     },
     "execution_count": 431,
     "metadata": {},
     "output_type": "execute_result"
    }
   ],
   "source": [
    "df_desnorm_2.columns.to_list()"
   ]
  },
  {
   "cell_type": "code",
   "execution_count": null,
   "metadata": {},
   "outputs": [],
   "source": [
    "df_desnorm_2 = "
   ]
  },
  {
   "cell_type": "code",
   "execution_count": 432,
   "metadata": {},
   "outputs": [
    {
     "data": {
      "text/plain": [
       "(466, 83)"
      ]
     },
     "execution_count": 432,
     "metadata": {},
     "output_type": "execute_result"
    }
   ],
   "source": [
    "df_desnorm_2."
   ]
  },
  {
   "cell_type": "code",
   "execution_count": null,
   "metadata": {},
   "outputs": [],
   "source": []
  }
 ],
 "metadata": {
  "kernelspec": {
   "display_name": "Python 3.13.7 ('venv': venv)",
   "language": "python",
   "name": "python3"
  },
  "language_info": {
   "codemirror_mode": {
    "name": "ipython",
    "version": 3
   },
   "file_extension": ".py",
   "mimetype": "text/x-python",
   "name": "python",
   "nbconvert_exporter": "python",
   "pygments_lexer": "ipython3",
   "version": "3.13.7"
  },
  "orig_nbformat": 4,
  "vscode": {
   "interpreter": {
    "hash": "2d86eebf24f043c555c239f0e4e6e2515d933f537649c295fc17e2565e88e2c9"
   }
  }
 },
 "nbformat": 4,
 "nbformat_minor": 2
}
